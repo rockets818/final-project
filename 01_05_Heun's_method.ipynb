{
 "metadata": {
  "name": "",
  "signature": "sha256:15429327a26f6ab48c24655ab4850a159c47ec4c7ff949ebc45f3439b46be49d"
 },
 "nbformat": 3,
 "nbformat_minor": 0,
 "worksheets": [
  {
   "cells": [
    {
     "cell_type": "heading",
     "level": 6,
     "metadata": {},
     "source": [
      "Content under Creative Commons Attriubtion license CC-BY 4.0, (c)2014 Sungrae Kim, at The George Washington University."
     ]
    },
    {
     "cell_type": "heading",
     "level": 1,
     "metadata": {},
     "source": [
      "Bonus notebook - Electron Trajectory Model"
     ]
    },
    {
     "cell_type": "markdown",
     "metadata": {},
     "source": [
      "Welcome! This is the bonus notebook of the series \"The phugoid model of glider flight\", the first learning module of the course [Practical Numerical Methods with Python](http://openedx.seas.gwu.edu/courses/GW/MAE6286/2014_fall/about). In the previous notebooks, we described numerically solved phugoid model using Euler method. Now, let's start to develop the electron trajectory model with Euler method and another method named 'Heun's method' that is known as improved Euler's method with higher order comparing to Euler method. While Euler method is first-order method, Heun's method is second-order method."
     ]
    },
    {
     "cell_type": "heading",
     "level": 3,
     "metadata": {},
     "source": [
      "Electron Trajectory Equation"
     ]
    },
    {
     "cell_type": "markdown",
     "metadata": {},
     "source": [
      "Before introducing the numerical method, let's study breifly about the equations for electron trajectory.\n",
      "First, we need to suppose that charged particle with the mass of m and electric charge of q are moving in the crossed electric and magnetic field.\n",
      "While the particle is moving with the  velocity of v, we call the force that acts on the particle as Lorentz force."
     ]
    },
    {
     "cell_type": "markdown",
     "metadata": {},
     "source": [
      "\\begin{eqnarray} Lorentz&Force : &&&& \\vec F = q(\\vec E +\\vec v \\times \\vec B) \\end{eqnarray}"
     ]
    },
    {
     "cell_type": "markdown",
     "metadata": {},
     "source": [
      "From Newton's Second Law, the particle motion can be explained as "
     ]
    },
    {
     "cell_type": "markdown",
     "metadata": {},
     "source": [
      "\\begin{equation}\\vec F = m \\vec a = q(\\vec E + \\vec v \\times \\vec B)\\end{equation}"
     ]
    },
    {
     "cell_type": "markdown",
     "metadata": {},
     "source": [
      "From the equation above, we can figure out that there are two types of forces acting on the particle; force from electric field and from magnetic field."
     ]
    },
    {
     "cell_type": "markdown",
     "metadata": {},
     "source": [
      "\\begin{eqnarray} Electric&Field : &&&& \\vec F_e = q \\vec E \\end{eqnarray}"
     ]
    },
    {
     "cell_type": "markdown",
     "metadata": {},
     "source": [
      "\\begin{eqnarray} Magnetic&Field : &&&& \\vec F_m = q(\\vec v \\times \\vec B) \\end{eqnarray}"
     ]
    },
    {
     "cell_type": "markdown",
     "metadata": {},
     "source": [
      "Then, the charged particle motion equation, also electron trajectory equation, would be"
     ]
    },
    {
     "cell_type": "markdown",
     "metadata": {},
     "source": [
      "\\begin{eqnarray} \\vec F = m\\frac{d \\vec v}{d t} = m \\vec a = q (\\vec E + \\vec v \\times \\vec B) \\end{eqnarray}"
     ]
    },
    {
     "cell_type": "markdown",
     "metadata": {},
     "source": [
      "\\begin{eqnarray} \\vec a = \\frac {q}{m} \\vec E + \\frac {q}{m} (\\vec v \\times \\vec B) \\end{eqnarray}"
     ]
    },
    {
     "cell_type": "heading",
     "level": 3,
     "metadata": {},
     "source": [
      "Numerical Method : Euler's and Heun's"
     ]
    },
    {
     "cell_type": "markdown",
     "metadata": {},
     "source": [
      "We breifly reviewed the electron trajectory equation and are going to analyze numerical methods. "
     ]
    },
    {
     "cell_type": "markdown",
     "metadata": {},
     "source": [
      "First method we will analyze is [Euler's method](http://en.wikipedia.org/wiki/Euler_method)."
     ]
    },
    {
     "cell_type": "markdown",
     "metadata": {},
     "source": [
      "The initial value problem : \\begin{eqnarray} y'(t)=f(t,y(t)), &&&& y(t_0)=y_0 \\end{eqnarray}"
     ]
    },
    {
     "cell_type": "markdown",
     "metadata": {},
     "source": [
      "While h is the step size, time difference between each steps \\begin{eqnarray} h =t_{n+1} - t_n = \\Delta t \\end{eqnarray}"
     ]
    },
    {
     "cell_type": "markdown",
     "metadata": {},
     "source": [
      "the governing equation of Euler's method is \\begin{eqnarray} y_{n+1} = y_n + hf(t_n,y_n) = y_n + \\Delta t f(t_n,y_n) \\end{eqnarray}"
     ]
    },
    {
     "cell_type": "markdown",
     "metadata": {},
     "source": [
      "Another method is [Heun's method](http://en.wikipedia.org/wiki/Heun%27s_method)."
     ]
    },
    {
     "cell_type": "markdown",
     "metadata": {},
     "source": [
      "The initial value problem : \\begin{eqnarray} y'(t) = f(t,y(t)), \\qquad y(t_0)=y_0 \\end{eqnarray}"
     ]
    },
    {
     "cell_type": "markdown",
     "metadata": {},
     "source": [
      "The gorverning equation of Heun's method is \\begin{eqnarray} y_{n+1} = y_n + \\frac{1}{2}(k_1+k_2) \\end{eqnarray}"
     ]
    },
    {
     "cell_type": "markdown",
     "metadata": {},
     "source": [
      "where \\begin{eqnarray} k_1 = hf(t_n,u_n) = \\Delta t f(t_n, u_n) \\end{eqnarray}"
     ]
    },
    {
     "cell_type": "markdown",
     "metadata": {},
     "source": [
      "\\begin{eqnarray} k_2 = hf(t_n + h, u_n + k_1) = \\Delta t f(t_n + \\Delta t, u_n +\\Delta t f(t_n, u_n)) \\end{eqnarray}"
     ]
    },
    {
     "cell_type": "markdown",
     "metadata": {},
     "source": [
      "From the equation above, we can see that the equation for k1 is similar to that for Euler's method and Heun's method draws the result by averaging the current value and future value, which improves the accuracy of the result. When we reduce the timestep, Heun's method may yield the result 4 times(=2^2) accurable, while Euler's method may yield the result 2 times accurable."
     ]
    },
    {
     "cell_type": "heading",
     "level": 3,
     "metadata": {},
     "source": [
      "Application"
     ]
    },
    {
     "cell_type": "markdown",
     "metadata": {},
     "source": [
      "From methods we reviewed above, let's develop the electron trajectory model."
     ]
    },
    {
     "cell_type": "markdown",
     "metadata": {},
     "source": [
      "Let's start with Euler's method."
     ]
    },
    {
     "cell_type": "markdown",
     "metadata": {},
     "source": [
      "\\begin{eqnarray} y_{n+1} = y_n + hf(t_n,y_n) = y_n + \\Delta t f(t_n,y_n) \\end{eqnarray}"
     ]
    },
    {
     "cell_type": "code",
     "collapsed": false,
     "input": [
      "import numpy as np\n",
      "import matplotlib.pyplot as plt\n",
      "from math import *"
     ],
     "language": "python",
     "metadata": {},
     "outputs": [],
     "prompt_number": 1
    },
    {
     "cell_type": "markdown",
     "metadata": {},
     "source": [
      "Define all parameters. Magnetic field, z-component, is 0.1T, while electric field, x-component, is 1000V/m. Then, these fields are crossed each other."
     ]
    },
    {
     "cell_type": "code",
     "collapsed": false,
     "input": [
      "#Constants\n",
      "B = [0, 0, 0.1]       #T, magnetic field  \n",
      "E = 1000              #V/m, electric field\n",
      "\n",
      "q = 1.6e-19           #C, eletron charge\n",
      "m = 9.1e-31           #kg, mass of electron\n",
      "v0 = [1e5, 1e5, 1e5]  #Initial velocity of electron\n",
      "p0 = [0, 0, 0]        #Initial position of electron\n",
      "\n",
      "dt = 1e-11            #Each time step of electron\n",
      "nt = 100              #Number of time step of electron\n",
      "t = np.linspace(0.0,nt*dt,nt) "
     ],
     "language": "python",
     "metadata": {},
     "outputs": [],
     "prompt_number": 2
    },
    {
     "cell_type": "markdown",
     "metadata": {},
     "source": [
      "Create arrays of acceleration, velocity, and position."
     ]
    },
    {
     "cell_type": "code",
     "collapsed": false,
     "input": [
      "v = np.empty((nt,3))            #Creates empty array of the velocity, 3-D\n",
      "v[0] = v0                       #Initial conditions of the velocity   \n",
      "p = np.empty((nt,3))            #Creates empty array of the postion   3-D\n",
      "p[0] = p0                       #Initial conditions of the position\n",
      "a = np.empty((nt,3))            #Creates empty array of the accleration  3-D\n",
      "a[0] = q/m*E+q/m*np.cross(v0,B)"
     ],
     "language": "python",
     "metadata": {},
     "outputs": [],
     "prompt_number": 3
    },
    {
     "cell_type": "code",
     "collapsed": false,
     "input": [
      "def euler(v, a, dt):\n",
      "    \"\"\"Returns the solution at the next time-step using Euler's method.\n",
      "    \n",
      "    Parameters\n",
      "    ----------\n",
      "    v : array of float\n",
      "        solution at the previous time-step.\n",
      "    a : function\n",
      "        function to compute the right hand-side of the system of equation.\n",
      "    dt : float\n",
      "        time-increment.\n",
      "    \n",
      "    Returns\n",
      "    -------\n",
      "    v_n_plus_1 : array of float\n",
      "        approximate solution at the next time step.\n",
      "    \"\"\"\n",
      "\n",
      "    return v + dt * a\n",
      "\n",
      "def euler(p, v, dt):\n",
      "    \"\"\"Returns the solution at the next time-step using Euler's method.\n",
      "    \n",
      "    Parameters\n",
      "    ----------\n",
      "    p : array of float\n",
      "        solution at the previous time-step.\n",
      "    v : function\n",
      "        function to compute the right hand-side of the system of equation.\n",
      "    dt : float\n",
      "        time-increment.\n",
      "    \n",
      "    Returns\n",
      "    -------\n",
      "    p_n_plus_1 : array of float\n",
      "        approximate solution at the next time step.\n",
      "    \"\"\"\n",
      "\n",
      "    return p + dt * v"
     ],
     "language": "python",
     "metadata": {},
     "outputs": [],
     "prompt_number": 4
    },
    {
     "cell_type": "code",
     "collapsed": false,
     "input": [
      "for n in range (nt):\n",
      "    a[1:-1] = q/m*E+q/m*np.cross(v[1:-1],B)      #acceleration in accordance to the velocity\n",
      "    v[1:] = euler(v[:-1], a[:-1], dt)            #velocity for each time step\n",
      "    \n",
      "    p[1:] = euler(p[:-1], v[:-1], dt)            #position for each time step\n",
      "\n",
      "    vn = v.copy()\n",
      "    pn = p.copy()\n",
      "\n",
      "px = pn[:,0]\n",
      "py = pn[:,1]\n",
      "pz = pn[:,2]"
     ],
     "language": "python",
     "metadata": {},
     "outputs": [
      {
       "output_type": "stream",
       "stream": "stderr",
       "text": [
        "-c:2: RuntimeWarning: overflow encountered in multiply\n",
        "/opt/wakari/anaconda/lib/python2.7/site-packages/numpy/core/numeric.py:1487: RuntimeWarning: invalid value encountered in multiply\n",
        "  z = a[0]*b[1] - a[1]*b[0]\n"
       ]
      }
     ],
     "prompt_number": 5
    },
    {
     "cell_type": "code",
     "collapsed": false,
     "input": [
      "from mpl_toolkits.mplot3d import Axes3D\n",
      "mpl.rcParams['legend.fontsize'] = 10"
     ],
     "language": "python",
     "metadata": {},
     "outputs": [],
     "prompt_number": 6
    },
    {
     "cell_type": "code",
     "collapsed": false,
     "input": [
      "fig = plt.figure()\n",
      "ax = fig.gca(projection='3d')\n",
      "ax.plot(px, py, pz, 'r-', label='Trajectory of electron')\n",
      "xLabel = ax.set_xlabel('x',  linespacing=3.2, fontsize = 18)\n",
      "yLabel = ax.set_ylabel('y', linespacing=3.1, fontsize = 18)\n",
      "zLabel = ax.set_zlabel('z', linespacing=3.4, fontsize = 18)\n",
      "ax.legend()\n",
      "plt.show()"
     ],
     "language": "python",
     "metadata": {},
     "outputs": [
      {
       "metadata": {},
       "output_type": "display_data",
       "png": "[encoded data removed]",
       "text": [
        "<matplotlib.figure.Figure at 0x7f8967bb2050>"
       ]
      }
     ],
     "prompt_number": 7
    },
    {
     "cell_type": "markdown",
     "metadata": {},
     "source": [
      "We could gain the electron trajectory using Euler's method."
     ]
    },
    {
     "cell_type": "markdown",
     "metadata": {},
     "source": [
      "Then, let's apply Heun's method to the electron trajectory model."
     ]
    },
    {
     "cell_type": "markdown",
     "metadata": {},
     "source": [
      "\\begin{eqnarray} y_{n+1} = y_n + \\frac{1}{2}(k_1+k_2) \\end{eqnarray}"
     ]
    },
    {
     "cell_type": "markdown",
     "metadata": {},
     "source": [
      "where \\begin{eqnarray} k_1 = hf(t_n,u_n) = \\Delta t f(t_n, u_n) \\end{eqnarray}"
     ]
    },
    {
     "cell_type": "markdown",
     "metadata": {},
     "source": [
      "\\begin{eqnarray} k_2 = hf(t_n + h, u_n + k_1) = \\Delta t f(t_n + \\Delta t, u_n +\\Delta t f(t_n, u_n)) \\end{eqnarray},"
     ]
    },
    {
     "cell_type": "code",
     "collapsed": false,
     "input": [
      "#Constants\n",
      "B = [0., 0., 0.1]     #T, magnetic field  \n",
      "E = 1000.             #V/m, electric field\n",
      "\n",
      "q = 1.6e-19           #C, eletron charge\n",
      "m = 9.1e-31           #kg, mass of electron\n",
      "v0 = [1e5, 1e5, 1e5]  #Initial velocity of electron\n",
      "p0 = [0., 0., 0.]     #Initial position of electron\n",
      "\n",
      "dt = 1e-11            #Each time step of electron\n",
      "nt = 100              #Number of time step of electron\n",
      "t = np.linspace(0.0,nt*dt,nt) "
     ],
     "language": "python",
     "metadata": {},
     "outputs": [],
     "prompt_number": 8
    },
    {
     "cell_type": "code",
     "collapsed": false,
     "input": [
      "vh = np.empty((nt,3))            #Creates empty array of the velocity, 3-D\n",
      "vh[0] = v0                       #Initial conditions of the velocity   \n",
      "ph = np.empty((nt,3))            #Creates empty array of the postion   3-D\n",
      "ph[0] = p0                       #Initial conditions of the position\n",
      "ah = np.empty((nt,3))            #Creates empty array of the accleration  3-D\n",
      "ah[0] = q/m*E+q/m*np.cross(v0,B)"
     ],
     "language": "python",
     "metadata": {},
     "outputs": [],
     "prompt_number": 9
    },
    {
     "cell_type": "code",
     "collapsed": false,
     "input": [
      "def heun(vh, ah, h):\n",
      "    \"\"\"Returns the solution at the next time-step using Heun's method.\n",
      "    \n",
      "    Parameters\n",
      "    ----------\n",
      "    vh : array of float\n",
      "        solution at the previous time-step.\n",
      "    ah : function\n",
      "        function to compute the right hand-side of the system of equation.\n",
      "    h : float\n",
      "        time increment.\n",
      "    t : float\n",
      "        time.\n",
      "    \n",
      "    Returns\n",
      "    -------\n",
      "    vh_n_plus_1 : array of float\n",
      "        approximate solution at the next time step.\n",
      "    \"\"\"\n",
      "    for i in range(nt):\n",
      "        h = t[:-1] - t[1:]\n",
      "        k1 = h * ah( vh[:-1], t[:-1] )\n",
      "        k2 = h * ah( vh[:-1] + k1, t[1:] )\n",
      "        vh = vh[:-1] + ( k1 + k2 ) / 2.0\n",
      "    return vh\n",
      "\n",
      "def heun(ph, vh, h):\n",
      "    \"\"\"Returns the solution at the next time-step using Heun's method.\n",
      "    \n",
      "    Parameters\n",
      "    ----------\n",
      "    vh : array of float\n",
      "        solution at the previous time-step.\n",
      "    ah : function\n",
      "        function to compute the right hand-side of the system of equation.\n",
      "    h : float\n",
      "        time increment.\n",
      "    t : float\n",
      "        time.\n",
      "    \n",
      "    Returns\n",
      "    -------\n",
      "    ph_n_plus_1 : array of float\n",
      "        approximate solution at the next time step.\n",
      "    \"\"\"\n",
      "    for j in range(nt):\n",
      "        h = t[:-1] - t[1:]\n",
      "        k3 = h * vh( ph[:-1], t[:-1])\n",
      "        k4 = h * vh( ph[:-1] + k1, t[1:] )\n",
      "        ph = ph[:-1] + ( k3 + k4 ) / 2.0\n",
      "    return ph"
     ],
     "language": "python",
     "metadata": {},
     "outputs": [],
     "prompt_number": 10
    },
    {
     "cell_type": "code",
     "collapsed": false,
     "input": [
      "for nh in range (nt):\n",
      "    h = t[1:]-t[:-1]\n",
      "    ah = q/m*E+q/m*np.cross(vh,B)         #acceleration in accordance to the velocity\n",
      "    vh[1:] = heun(vh[:-1], ah[:-1], h)            #velocity for each time step\n",
      "    ph[1:] = heun(ph[:-1], vh[:-1], h)            #position for each time step\n",
      " \n",
      "    vhn = vh.copy()\n",
      "    phn = ph.copy()\n",
      "\n",
      "phx = phn[:,0]\n",
      "phy = phn[:,1]\n",
      "phz = phn[:,2]"
     ],
     "language": "python",
     "metadata": {},
     "outputs": [
      {
       "ename": "TypeError",
       "evalue": "'numpy.ndarray' object is not callable",
       "output_type": "pyerr",
       "traceback": [
        "\u001b[1;31m---------------------------------------------------------------------------\u001b[0m\n\u001b[1;31mTypeError\u001b[0m                                 Traceback (most recent call last)",
        "\u001b[1;32m<ipython-input-14-56e599b0a680>\u001b[0m in \u001b[0;36m<module>\u001b[1;34m()\u001b[0m\n\u001b[0;32m      2\u001b[0m     \u001b[0mh\u001b[0m \u001b[1;33m=\u001b[0m \u001b[0mt\u001b[0m\u001b[1;33m[\u001b[0m\u001b[1;36m1\u001b[0m\u001b[1;33m:\u001b[0m\u001b[1;33m]\u001b[0m\u001b[1;33m-\u001b[0m\u001b[0mt\u001b[0m\u001b[1;33m[\u001b[0m\u001b[1;33m:\u001b[0m\u001b[1;33m-\u001b[0m\u001b[1;36m1\u001b[0m\u001b[1;33m]\u001b[0m\u001b[1;33m\u001b[0m\u001b[0m\n\u001b[0;32m      3\u001b[0m     \u001b[0mah\u001b[0m \u001b[1;33m=\u001b[0m \u001b[0mq\u001b[0m\u001b[1;33m/\u001b[0m\u001b[0mm\u001b[0m\u001b[1;33m*\u001b[0m\u001b[0mE\u001b[0m\u001b[1;33m+\u001b[0m\u001b[0mq\u001b[0m\u001b[1;33m/\u001b[0m\u001b[0mm\u001b[0m\u001b[1;33m*\u001b[0m\u001b[0mnp\u001b[0m\u001b[1;33m.\u001b[0m\u001b[0mcross\u001b[0m\u001b[1;33m(\u001b[0m\u001b[0mvh\u001b[0m\u001b[1;33m,\u001b[0m\u001b[0mB\u001b[0m\u001b[1;33m)\u001b[0m         \u001b[1;31m#acceleration in accordance to the velocity\u001b[0m\u001b[1;33m\u001b[0m\u001b[0m\n\u001b[1;32m----> 4\u001b[1;33m     \u001b[0mvh\u001b[0m\u001b[1;33m[\u001b[0m\u001b[1;36m1\u001b[0m\u001b[1;33m:\u001b[0m\u001b[1;33m]\u001b[0m \u001b[1;33m=\u001b[0m \u001b[0mheun\u001b[0m\u001b[1;33m(\u001b[0m\u001b[0mvh\u001b[0m\u001b[1;33m[\u001b[0m\u001b[1;33m:\u001b[0m\u001b[1;33m-\u001b[0m\u001b[1;36m1\u001b[0m\u001b[1;33m]\u001b[0m\u001b[1;33m,\u001b[0m \u001b[0mah\u001b[0m\u001b[1;33m[\u001b[0m\u001b[1;33m:\u001b[0m\u001b[1;33m-\u001b[0m\u001b[1;36m1\u001b[0m\u001b[1;33m]\u001b[0m\u001b[1;33m,\u001b[0m \u001b[0mh\u001b[0m\u001b[1;33m)\u001b[0m            \u001b[1;31m#velocity for each time step\u001b[0m\u001b[1;33m\u001b[0m\u001b[0m\n\u001b[0m\u001b[0;32m      5\u001b[0m     \u001b[0mph\u001b[0m\u001b[1;33m[\u001b[0m\u001b[1;36m1\u001b[0m\u001b[1;33m:\u001b[0m\u001b[1;33m]\u001b[0m \u001b[1;33m=\u001b[0m \u001b[0mheun\u001b[0m\u001b[1;33m(\u001b[0m\u001b[0mph\u001b[0m\u001b[1;33m[\u001b[0m\u001b[1;33m:\u001b[0m\u001b[1;33m-\u001b[0m\u001b[1;36m1\u001b[0m\u001b[1;33m]\u001b[0m\u001b[1;33m,\u001b[0m \u001b[0mvh\u001b[0m\u001b[1;33m[\u001b[0m\u001b[1;33m:\u001b[0m\u001b[1;33m-\u001b[0m\u001b[1;36m1\u001b[0m\u001b[1;33m]\u001b[0m\u001b[1;33m,\u001b[0m \u001b[0mh\u001b[0m\u001b[1;33m)\u001b[0m            \u001b[1;31m#position for each time step\u001b[0m\u001b[1;33m\u001b[0m\u001b[0m\n\u001b[0;32m      6\u001b[0m \u001b[1;33m\u001b[0m\u001b[0m\n",
        "\u001b[1;32m<ipython-input-10-818a7fda2850>\u001b[0m in \u001b[0;36mheun\u001b[1;34m(ph, vh, h)\u001b[0m\n\u001b[0;32m     46\u001b[0m     \u001b[1;32mfor\u001b[0m \u001b[0mj\u001b[0m \u001b[1;32min\u001b[0m \u001b[0mrange\u001b[0m\u001b[1;33m(\u001b[0m\u001b[0mnt\u001b[0m\u001b[1;33m)\u001b[0m\u001b[1;33m:\u001b[0m\u001b[1;33m\u001b[0m\u001b[0m\n\u001b[0;32m     47\u001b[0m         \u001b[0mh\u001b[0m \u001b[1;33m=\u001b[0m \u001b[0mt\u001b[0m\u001b[1;33m[\u001b[0m\u001b[1;33m:\u001b[0m\u001b[1;33m-\u001b[0m\u001b[1;36m1\u001b[0m\u001b[1;33m]\u001b[0m \u001b[1;33m-\u001b[0m \u001b[0mt\u001b[0m\u001b[1;33m[\u001b[0m\u001b[1;36m1\u001b[0m\u001b[1;33m:\u001b[0m\u001b[1;33m]\u001b[0m\u001b[1;33m\u001b[0m\u001b[0m\n\u001b[1;32m---> 48\u001b[1;33m         \u001b[0mk3\u001b[0m \u001b[1;33m=\u001b[0m \u001b[0mh\u001b[0m \u001b[1;33m*\u001b[0m \u001b[0mvh\u001b[0m\u001b[1;33m(\u001b[0m \u001b[0mph\u001b[0m\u001b[1;33m[\u001b[0m\u001b[1;33m:\u001b[0m\u001b[1;33m-\u001b[0m\u001b[1;36m1\u001b[0m\u001b[1;33m]\u001b[0m\u001b[1;33m,\u001b[0m \u001b[0mt\u001b[0m\u001b[1;33m[\u001b[0m\u001b[1;33m:\u001b[0m\u001b[1;33m-\u001b[0m\u001b[1;36m1\u001b[0m\u001b[1;33m]\u001b[0m\u001b[1;33m)\u001b[0m\u001b[1;33m\u001b[0m\u001b[0m\n\u001b[0m\u001b[0;32m     49\u001b[0m         \u001b[0mk4\u001b[0m \u001b[1;33m=\u001b[0m \u001b[0mh\u001b[0m \u001b[1;33m*\u001b[0m \u001b[0mvh\u001b[0m\u001b[1;33m(\u001b[0m \u001b[0mph\u001b[0m\u001b[1;33m[\u001b[0m\u001b[1;33m:\u001b[0m\u001b[1;33m-\u001b[0m\u001b[1;36m1\u001b[0m\u001b[1;33m]\u001b[0m \u001b[1;33m+\u001b[0m \u001b[0mk1\u001b[0m\u001b[1;33m,\u001b[0m \u001b[0mt\u001b[0m\u001b[1;33m[\u001b[0m\u001b[1;36m1\u001b[0m\u001b[1;33m:\u001b[0m\u001b[1;33m]\u001b[0m \u001b[1;33m)\u001b[0m\u001b[1;33m\u001b[0m\u001b[0m\n\u001b[0;32m     50\u001b[0m         \u001b[0mph\u001b[0m \u001b[1;33m=\u001b[0m \u001b[0mph\u001b[0m\u001b[1;33m[\u001b[0m\u001b[1;33m:\u001b[0m\u001b[1;33m-\u001b[0m\u001b[1;36m1\u001b[0m\u001b[1;33m]\u001b[0m \u001b[1;33m+\u001b[0m \u001b[1;33m(\u001b[0m \u001b[0mk3\u001b[0m \u001b[1;33m+\u001b[0m \u001b[0mk4\u001b[0m \u001b[1;33m)\u001b[0m \u001b[1;33m/\u001b[0m \u001b[1;36m2.0\u001b[0m\u001b[1;33m\u001b[0m\u001b[0m\n",
        "\u001b[1;31mTypeError\u001b[0m: 'numpy.ndarray' object is not callable"
       ]
      }
     ],
     "prompt_number": 14
    },
    {
     "cell_type": "heading",
     "level": 5,
     "metadata": {},
     "source": [
      "Challenge!"
     ]
    },
    {
     "cell_type": "markdown",
     "metadata": {},
     "source": [
      "This code needs to be debugged because it has the error shown above. When you are successful in debugging, you can continue to the steps below and gain the graph for electron trajectory with Heun's method."
     ]
    },
    {
     "cell_type": "code",
     "collapsed": false,
     "input": [
      "from mpl_toolkits.mplot3d import Axes3D\n",
      "mpl.rcParams['legend.fontsize'] = 10"
     ],
     "language": "python",
     "metadata": {},
     "outputs": []
    },
    {
     "cell_type": "code",
     "collapsed": false,
     "input": [
      "fig = plt.figure()\n",
      "ax = fig.gca(projection='3d')\n",
      "ax.plot(phx, phy, phz, 'r-', label='Trajectory of electron')\n",
      "xLabel = ax.set_xlabel('x',  linespacing=3.2, fontsize = 18)\n",
      "yLabel = ax.set_ylabel('y', linespacing=3.1, fontsize = 18)\n",
      "zLabel = ax.set_zlabel('z', linespacing=3.4, fontsize = 18)\n",
      "ax.legend()\n",
      "plt.show()"
     ],
     "language": "python",
     "metadata": {},
     "outputs": []
    },
    {
     "cell_type": "heading",
     "level": 3,
     "metadata": {},
     "source": [
      "Dig deeper.."
     ]
    },
    {
     "cell_type": "markdown",
     "metadata": {},
     "source": [
      "We developed the electron trajectory model using Euler's method, 1st order, and Heun's method, 2nd order. Furthermore, we can use higher order method and here is the higher order method named Runge-Kutta in 4th order."
     ]
    },
    {
     "cell_type": "markdown",
     "metadata": {},
     "source": [
      "\\begin{eqnarray} y_{n+1} = y_n + \\frac{1}{6}(k_1+2k_2+2k_3+k_4) \\end{eqnarray}"
     ]
    },
    {
     "cell_type": "markdown",
     "metadata": {},
     "source": [
      "where \\begin{eqnarray} k_1 = hf(t_n,u_n) \\end{eqnarray}"
     ]
    },
    {
     "cell_type": "markdown",
     "metadata": {},
     "source": [
      "\\begin{eqnarray} k_2 = hf(t_n + h/2, u_n + k_1/2)\\end{eqnarray}"
     ]
    },
    {
     "cell_type": "markdown",
     "metadata": {},
     "source": [
      "\\begin{eqnarray} k_3 = hf(t_n + h/2, u_n + k_2/2) \\end{eqnarray}"
     ]
    },
    {
     "cell_type": "markdown",
     "metadata": {},
     "source": [
      "\\begin{eqnarray} k_4 = hf(t_n + h, u_n + k_3) \\end{eqnarray}"
     ]
    },
    {
     "cell_type": "code",
     "collapsed": false,
     "input": [
      "from IPython.core.display import HTML\n",
      "css_file = '../../styles/numericalmoocstyle.css'\n",
      "HTML(open(css_file, \"r\").read())"
     ],
     "language": "python",
     "metadata": {},
     "outputs": [
      {
       "ename": "IOError",
       "evalue": "[Errno 2] No such file or directory: '../../styles/numericalmoocstyle.css'",
       "output_type": "pyerr",
       "traceback": [
        "\u001b[1;31m---------------------------------------------------------------------------\u001b[0m\n\u001b[1;31mIOError\u001b[0m                                   Traceback (most recent call last)",
        "\u001b[1;32m<ipython-input-20-fde599084f9c>\u001b[0m in \u001b[0;36m<module>\u001b[1;34m()\u001b[0m\n\u001b[0;32m      1\u001b[0m \u001b[1;32mfrom\u001b[0m \u001b[0mIPython\u001b[0m\u001b[1;33m.\u001b[0m\u001b[0mcore\u001b[0m\u001b[1;33m.\u001b[0m\u001b[0mdisplay\u001b[0m \u001b[1;32mimport\u001b[0m \u001b[0mHTML\u001b[0m\u001b[1;33m\u001b[0m\u001b[0m\n\u001b[0;32m      2\u001b[0m \u001b[0mcss_file\u001b[0m \u001b[1;33m=\u001b[0m \u001b[1;34m'../../styles/numericalmoocstyle.css'\u001b[0m\u001b[1;33m\u001b[0m\u001b[0m\n\u001b[1;32m----> 3\u001b[1;33m \u001b[0mHTML\u001b[0m\u001b[1;33m(\u001b[0m\u001b[0mopen\u001b[0m\u001b[1;33m(\u001b[0m\u001b[0mcss_file\u001b[0m\u001b[1;33m,\u001b[0m \u001b[1;34m\"r\"\u001b[0m\u001b[1;33m)\u001b[0m\u001b[1;33m.\u001b[0m\u001b[0mread\u001b[0m\u001b[1;33m(\u001b[0m\u001b[1;33m)\u001b[0m\u001b[1;33m)\u001b[0m\u001b[1;33m\u001b[0m\u001b[0m\n\u001b[0m",
        "\u001b[1;31mIOError\u001b[0m: [Errno 2] No such file or directory: '../../styles/numericalmoocstyle.css'"
       ]
      }
     ],
     "prompt_number": 20
    },
    {
     "cell_type": "code",
     "collapsed": false,
     "input": [],
     "language": "python",
     "metadata": {},
     "outputs": []
    }
   ],
   "metadata": {}
  }
 ]
}